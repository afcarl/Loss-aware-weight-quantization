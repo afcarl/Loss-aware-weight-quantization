{
 "cells": [
  {
   "cell_type": "code",
   "execution_count": 1,
   "metadata": {},
   "outputs": [
    {
     "name": "stderr",
     "output_type": "stream",
     "text": [
      "WARNING (theano.sandbox.cuda): The cuda backend is deprecated and will be removed in the next release (v0.10).  Please switch to the gpuarray backend. You can get more information about how to switch at this URL:\n",
      " https://github.com/Theano/Theano/wiki/Converting-to-the-new-gpu-back-end%28gpuarray%29\n",
      "\n",
      "Using gpu device 1: GeForce GTX TITAN X (CNMeM is enabled with initial size: 15.0% of memory, cuDNN 5110)\n"
     ]
    }
   ],
   "source": [
    "import theano"
   ]
  },
  {
   "cell_type": "code",
   "execution_count": 2,
   "metadata": {
    "collapsed": true
   },
   "outputs": [],
   "source": [
    "import theano.tensor as T"
   ]
  },
  {
   "cell_type": "code",
   "execution_count": 3,
   "metadata": {
    "collapsed": true
   },
   "outputs": [],
   "source": [
    "W1 = T.fmatrix('W1')\n",
    "D1 = T.fmatrix('D1')"
   ]
  },
  {
   "cell_type": "code",
   "execution_count": 4,
   "metadata": {
    "collapsed": true
   },
   "outputs": [],
   "source": [
    "W = T.abs_(T.flatten(W1))\n",
    "D = T.flatten(D1)\n",
    "\n",
    "# f = theano.function([W, D], [W1, D1])\n",
    "# a = np.float32([[1.5, 2.5, -3.0], [-2, 3, 1]])\n",
    "# b = np.float32([[1,1,1],[1,1,1]])\n",
    "# f(a,b)"
   ]
  },
  {
   "cell_type": "code",
   "execution_count": 5,
   "metadata": {
    "collapsed": true
   },
   "outputs": [],
   "source": [
    "#     sorted_W = T.sort(W)[::-1]\n",
    "ind = T.argsort(W)[::-1] \n",
    "cum_DW_D = T.cumsum(T.abs_(D*W)[ind])/T.cumsum(D[ind])/2\n",
    "tmp = W[ind][:-1] - cum_DW_D[:-1]\n",
    "tmp1 = W[ind][1:] - cum_DW_D[:-1]\n",
    "tmp3 = tmp*tmp1\n",
    "mask = T.lt(tmp3, 0)\n",
    "    \n",
    "from theano.ifelse import ifelse\n",
    "thres =  ifelse(T.gt(mask.nonzero()[0].shape[0],0), cum_DW_D[mask.nonzero()][0], 0.7*cum_DW_D[-1] )\n",
    "\n",
    "mask = T.switch(T.gt(T.abs_(W), thres), 1., 0.)     ###### modified\n",
    "alpha  = (T.abs_(mask*D*W).sum()/(D*mask).sum()).astype('float32') \n",
    "\n",
    "\n",
    "f = theano.function([W1, D1], [W, D, ind, cum_DW_D, tmp, tmp1, thres, alpha])"
   ]
  },
  {
   "cell_type": "code",
   "execution_count": 6,
   "metadata": {
    "collapsed": true
   },
   "outputs": [],
   "source": [
    "import numpy as np"
   ]
  },
  {
   "cell_type": "code",
   "execution_count": 9,
   "metadata": {
    "collapsed": true
   },
   "outputs": [],
   "source": [
    "a = np.float32([[1.5, 2.5, -3.0], [-10, 3, 1]])\n",
    "b = np.float32([[1,1,1],[1,0.5,1]])"
   ]
  },
  {
   "cell_type": "code",
   "execution_count": 10,
   "metadata": {},
   "outputs": [
    {
     "data": {
      "text/plain": [
       "[array([  1.5,   2.5,   3. ,  10. ,   3. ,   1. ], dtype=float32),\n",
       " array([ 1. ,  1. ,  1. ,  1. ,  0.5,  1. ], dtype=float32),\n",
       " array([3, 4, 2, 1, 0, 5]),\n",
       " array([ 5.        ,  3.83333325,  2.9000001 ,  2.42857146,  2.05555558,\n",
       "         1.77272725], dtype=float32),\n",
       " array([ 5.        , -0.83333325,  0.0999999 ,  0.07142854, -0.55555558], dtype=float32),\n",
       " array([-2.        , -0.83333325, -0.4000001 , -0.92857146, -1.05555558], dtype=float32),\n",
       " array(5.0, dtype=float32),\n",
       " array(10.0, dtype=float32)]"
      ]
     },
     "execution_count": 10,
     "metadata": {},
     "output_type": "execute_result"
    }
   ],
   "source": [
    "f(a,b)"
   ]
  },
  {
   "cell_type": "code",
   "execution_count": null,
   "metadata": {
    "collapsed": true
   },
   "outputs": [],
   "source": [
    "W = T.fvecor('W')\n",
    "Wacc = T.fvector('Wacc')\n",
    "D = T.fvector('D')\n",
    "Wb= T.fvector('Wb')"
   ]
  },
  {
   "cell_type": "code",
   "execution_count": null,
   "metadata": {
    "collapsed": true
   },
   "outputs": [],
   "source": [
    "D = (T.sqrt(Wacc) + 1e-8) \n",
    "b = T.sgn(Wb)\n",
    "alpha  = (T.abs_(b*D*W).sum()/T.abs_(b*D).sum()).astype('float32') \n",
    "# b = T.switch(T.gt(W/alpha, 0.5), 1., T.switch(T.lt(W/alpha, -0.5), -1., 0.) )\n",
    "k = 3  ## k-bit 0, 1/4, 1/2, 1\n",
    "n = 2**(k-1)-1\n",
    "tmp = T.clip(W/alpha, -1., 1.)\n",
    "b =  T.switch( T.ge(tmp, pow(2, -n)), T.pow(2, round3(T.log2(tmp)-0.0849625)), T.switch( T.le(tmp, -pow(2,-n)), -T.pow(2, round3(T.log2(-tmp)-0.0849625)), 0.))\n",
    "b = T.switch(T.ge(b, pow(2, - (n-1))), b, T.switch(T.le(b, -pow(2, -(n-1))), b, T.sgn(b)*pow(2,-(n-1))))\n",
    "# b =  T.switch( T.ge(tmp, 1./(T.pow(2, n))), T.pow(2, round3(T.log2(tmp))), T.switch( T.le(tmp, - 1./(T.pow(2, n))), -T.pow(2, round3(T.log2(-tmp))), 0.))\n",
    "def OneStep(alpha, b):\n",
    "\t\t###### minimize alpha\n",
    "\t\talpha_new  = (T.abs_(b*D*W).sum()/T.abs_(b*D).sum()).astype('float32') \n",
    "\t\t##### minimize b\n",
    "\t\t# b_new = T.switch(T.gt(W/alpha, 0.5), 1., T.switch(T.lt(W/alpha, -0.5), -1., 0.))\n",
    "\t\ttmp_new = T.clip(W/alpha_new, -1., 1.)\n",
    "\t\tb_new =  T.switch( T.ge(tmp_new, pow(2, -n)), T.pow(2, round3(T.log2(tmp_new)-0.0849625)), \n",
    "\t\t\tT.switch( T.le(tmp_new, -pow(2, -n)), -T.pow(2, round3(T.log2(-tmp_new)-0.0849625)), 0.))\t\t\n",
    "\t\tb_new = T.switch(T.ge(b_new, pow(2, - (n-1))), b_new, T.switch(T.le(b_new, -pow(2, -(n-1))), b_new, T.sgn(b_new)*pow(2, -(n-1))))\n",
    "\n",
    "\t\t# b_new =  T.switch( T.ge(tmp_new, 1./(T.pow(2, n))), T.pow(2, round3(T.log2(tmp_new))), \n",
    "\t\t# \tT.switch( T.le(tmp_new, - 1./(T.pow(2, n))), -T.pow(2, round3(T.log2(-tmp_new))), 0.))\n",
    "\t\tdelta = T.abs_(alpha_new-alpha)\n",
    "\t\tcondition = T.lt(delta, 1e-6)\n",
    "\t\treturn [alpha_new, b_new], theano.scan_module.until(condition)\n",
    "\n",
    "[out1, out2], updates = theano.scan(fn=OneStep ,outputs_info=[alpha, b],n_steps=10)\n",
    "Wb  = out1[-1]*out2[-1]\t"
   ]
  }
 ],
 "metadata": {
  "kernelspec": {
   "display_name": "Python 2",
   "language": "python",
   "name": "python2"
  },
  "language_info": {
   "codemirror_mode": {
    "name": "ipython",
    "version": 2
   },
   "file_extension": ".py",
   "mimetype": "text/x-python",
   "name": "python",
   "nbconvert_exporter": "python",
   "pygments_lexer": "ipython2",
   "version": "2.7.12"
  }
 },
 "nbformat": 4,
 "nbformat_minor": 2
}
